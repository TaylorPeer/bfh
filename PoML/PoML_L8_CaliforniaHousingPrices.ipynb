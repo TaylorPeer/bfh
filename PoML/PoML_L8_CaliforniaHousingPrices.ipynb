{
 "cells": [
  {
   "cell_type": "markdown",
   "id": "c34c18da",
   "metadata": {},
   "source": [
    "# Regression Example\n",
    "\n",
    "This notebook demonstrates basic concepts relating to regression problems where the target variable is a continuous numeric value. In this case, we are predicting median value of homes in various districts of California."
   ]
  },
  {
   "cell_type": "markdown",
   "id": "71e34e37",
   "metadata": {},
   "source": [
    "## Imports"
   ]
  },
  {
   "cell_type": "code",
   "execution_count": null,
   "id": "5b448768",
   "metadata": {},
   "outputs": [],
   "source": [
    "import pandas as pd\n",
    "import time\n",
    "from tqdm import tqdm\n",
    "\n",
    "from sklearn.datasets import fetch_california_housing\n",
    "from sklearn.model_selection import train_test_split\n",
    "from sklearn.linear_model import LinearRegression\n",
    "from sklearn.tree import DecisionTreeRegressor\n",
    "from sklearn.ensemble import RandomForestRegressor\n",
    "from sklearn.svm import SVR\n",
    "from sklearn.metrics import mean_squared_error\n",
    "from sklearn.metrics import mean_absolute_error\n",
    "from sklearn.metrics import r2_score"
   ]
  },
  {
   "cell_type": "markdown",
   "id": "efb5e9c1",
   "metadata": {},
   "source": [
    "## Load the Data\n",
    "\n",
    "In this special case, the dataset is included as part of Scikit-Learn. Convenient."
   ]
  },
  {
   "cell_type": "code",
   "execution_count": null,
   "id": "17bae207",
   "metadata": {},
   "outputs": [],
   "source": [
    "california_housing = fetch_california_housing()"
   ]
  },
  {
   "cell_type": "markdown",
   "id": "1b8b6a4d",
   "metadata": {},
   "source": [
    "Print the dataset description"
   ]
  },
  {
   "cell_type": "code",
   "execution_count": null,
   "id": "deec1f7d",
   "metadata": {},
   "outputs": [],
   "source": [
    "print(california_housing.DESCR)"
   ]
  },
  {
   "cell_type": "markdown",
   "id": "0be51395",
   "metadata": {},
   "source": [
    "### Transform the Data\n",
    "\n",
    "However, the data is not immediately loaded in a DataFrame format we are familiar with. So let's create a DataFrame with it. We also have to explicitly add the target variable to the DataFrame."
   ]
  },
  {
   "cell_type": "code",
   "execution_count": null,
   "id": "73e7f783",
   "metadata": {},
   "outputs": [],
   "source": [
    "df = pd.DataFrame(california_housing.data, columns=california_housing.feature_names)\n",
    "df['MEDV'] = california_housing.target"
   ]
  },
  {
   "cell_type": "markdown",
   "id": "8dbcab7b",
   "metadata": {},
   "source": [
    "## Training & Test Split"
   ]
  },
  {
   "cell_type": "code",
   "execution_count": null,
   "id": "93ad6690",
   "metadata": {},
   "outputs": [],
   "source": [
    "X = df.drop('MEDV', axis=1)\n",
    "y = df['MEDV']\n",
    "\n",
    "X_train, X_test, y_train, y_test = train_test_split(X, y, test_size=0.2)"
   ]
  },
  {
   "cell_type": "markdown",
   "id": "7317525d",
   "metadata": {},
   "source": [
    "## Initial Model Training"
   ]
  },
  {
   "cell_type": "code",
   "execution_count": null,
   "id": "8fc2a4ec",
   "metadata": {},
   "outputs": [],
   "source": [
    "model = LinearRegression()\n",
    "model = model.fit(X_train, y_train)"
   ]
  },
  {
   "cell_type": "markdown",
   "id": "9254da16",
   "metadata": {},
   "source": [
    "### Make Predictions"
   ]
  },
  {
   "cell_type": "code",
   "execution_count": null,
   "id": "e0d0f086",
   "metadata": {},
   "outputs": [],
   "source": [
    "y_pred = model.predict(X_test)"
   ]
  },
  {
   "cell_type": "markdown",
   "id": "af3697f6",
   "metadata": {},
   "source": [
    "## Evaluation\n",
    "\n",
    "First, manual inspection of actual vs. predicted values and the error between them."
   ]
  },
  {
   "cell_type": "code",
   "execution_count": null,
   "id": "4305fb2b",
   "metadata": {},
   "outputs": [],
   "source": [
    "eval_df = X_test.copy()\n",
    "eval_df[\"MEDV_actual\"] = y_test\n",
    "eval_df[\"MEDV_predicted\"] = y_pred\n",
    "eval_df[\"error\"] = abs(eval_df[\"MEDV_actual\"] - eval_df[\"MEDV_predicted\"])\n",
    "eval_df.sort_values(by=\"error\")"
   ]
  },
  {
   "cell_type": "markdown",
   "id": "60d97bf7",
   "metadata": {},
   "source": [
    "### Individual Regression Metrics"
   ]
  },
  {
   "cell_type": "markdown",
   "id": "04985ccb",
   "metadata": {},
   "source": [
    "#### Mean Absolute Error\n",
    "\n",
    "Mean value of error over all predicted samples."
   ]
  },
  {
   "cell_type": "code",
   "execution_count": null,
   "id": "ff6fcae4",
   "metadata": {},
   "outputs": [],
   "source": [
    "mean_absolute_error(y_test, y_pred)"
   ]
  },
  {
   "cell_type": "markdown",
   "id": "b4daa853",
   "metadata": {},
   "source": [
    "#### Mean Squared Error\n",
    "\n",
    "Mean squared value of error over all predicted samples. Squaring the error results in proportionally larger values the larger the initial error was."
   ]
  },
  {
   "cell_type": "code",
   "execution_count": null,
   "id": "36b1e506",
   "metadata": {},
   "outputs": [],
   "source": [
    "mean_squared_error(y_test, y_pred)"
   ]
  },
  {
   "cell_type": "markdown",
   "id": "cc036265",
   "metadata": {},
   "source": [
    "#### R-Squared Value\n",
    "\n",
    "Statistical measure that determines the proportion of variance in the target variable that can be explained by the features. R-squared shows how well the data fit the regression model (*the goodness of fit*)."
   ]
  },
  {
   "cell_type": "code",
   "execution_count": null,
   "id": "7a2c0353",
   "metadata": {},
   "outputs": [],
   "source": [
    "r2_score(y_test, y_pred)"
   ]
  },
  {
   "cell_type": "markdown",
   "id": "80d0900b",
   "metadata": {},
   "source": [
    "### Evaluating Different Regression Models"
   ]
  },
  {
   "cell_type": "code",
   "execution_count": null,
   "id": "2078ef7a",
   "metadata": {},
   "outputs": [],
   "source": [
    "# Linear Regression as presented in the lecture\n",
    "linear_regression = LinearRegression()\n",
    "\n",
    "# Decision Trees for Regression:\n",
    "# \"criterion\" parameter used to determine the quality of splits when constructing the decision tree\n",
    "# - default: \"squared_error\"\n",
    "# - alternative value: \"absolute_error\"\n",
    "decision_tree_regression = DecisionTreeRegressor(criterion=\"squared_error\")\n",
    "\n",
    "# Random Forest for Regression:\n",
    "# \"criterion\" parameter supported as above\n",
    "# \"n_estimators\" - number of individual trees\n",
    "random_forest_regression = RandomForestRegressor()\n",
    "\n",
    "# Support Vector Machine for Regression\n",
    "support_vector_regression = SVR()\n",
    "\n",
    "regressors = [\n",
    "    linear_regression,\n",
    "    decision_tree_regression,\n",
    "    random_forest_regression,\n",
    "    support_vector_regression\n",
    "]\n",
    "\n",
    "model_metrics = []\n",
    "for regressor in tqdm(regressors):\n",
    "    \n",
    "    # Train the regressor\n",
    "    start_time = time.time()\n",
    "    trained_model = regressor.fit(X_train, y_train)\n",
    "    end_training_time = time.time()\n",
    "    training_time_elapsed = end_training_time - start_time\n",
    "    \n",
    "    # Apply trained regressor to test set\n",
    "    start_time = time.time()\n",
    "    predictions = trained_model.predict(X_test)\n",
    "    prediction_time = time.time()\n",
    "    prediction_time_elapsed = prediction_time - start_time\n",
    "    \n",
    "    # Measure model performance\n",
    "    mse = mean_squared_error(y_test, predictions)\n",
    "    mae = mean_absolute_error(y_test, predictions)\n",
    "    r2 = r2_score(y_test, predictions)\n",
    "    \n",
    "    # Record model metrics\n",
    "    model_metrics.append({\n",
    "        \"model\": trained_model.__class__.__name__,\n",
    "        \"training_time\": training_time_elapsed,\n",
    "        \"prediction_time\": prediction_time_elapsed,\n",
    "        \"mse\": mse,\n",
    "        \"mae\": mae,\n",
    "        \"r2\": r2\n",
    "    })\n",
    "    \n",
    "# Print model metrics table\n",
    "pd.DataFrame(model_metrics)"
   ]
  },
  {
   "cell_type": "code",
   "execution_count": null,
   "id": "fbc6dc07",
   "metadata": {},
   "outputs": [],
   "source": []
  }
 ],
 "metadata": {
  "kernelspec": {
   "display_name": "Python 3 (ipykernel)",
   "language": "python",
   "name": "python3"
  },
  "language_info": {
   "codemirror_mode": {
    "name": "ipython",
    "version": 3
   },
   "file_extension": ".py",
   "mimetype": "text/x-python",
   "name": "python",
   "nbconvert_exporter": "python",
   "pygments_lexer": "ipython3",
   "version": "3.9.15"
  }
 },
 "nbformat": 4,
 "nbformat_minor": 5
}
