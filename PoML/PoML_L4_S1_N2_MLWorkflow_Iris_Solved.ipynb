{
 "cells": [
  {
   "cell_type": "markdown",
   "metadata": {
    "id": "8eQX8une7lmG"
   },
   "source": [
    "# Machine Learning Workflow: Iris\n",
    "\n",
    "A typical machine learning workflow:\n",
    "\n",
    "1. Dataset Curation\n",
    "2. Dataset Preprocessing\n",
    "3. Dataset Provisioning\n",
    "4. Training Configuration\n",
    "5. Model Training\n",
    "6. Evaluation\n",
    "7. Iterative Optimization\n",
    "\n",
    "We will look at the above workflow based on a commonly used machine learning dataset called the *Iris* Dataset.\n",
    "\n",
    "The Iris Dataset is relatively small and has the following characteristics:\n",
    "\n",
    "* 4 Features (Attributes)\n",
    "* 150 Samples (Instances, Rows)\n",
    "\n",
    "You can read more more about the dataset here: https://archive.ics.uci.edu/ml/datasets/iris/."
   ]
  },
  {
   "cell_type": "markdown",
   "metadata": {},
   "source": [
    "## [Step 1] Dataset Curation\n",
    "\n",
    "Luckily in this case the dataset curation has already taken place - by biologist Ronald Fisher back in 1936.\n",
    "\n",
    "In case the data has not already been assembled - which is often the case in real-world applications - the dataset curation step and all the manual efforts in collecting samples and annotation can potentially take much longer than all other steps combined."
   ]
  },
  {
   "cell_type": "markdown",
   "metadata": {
    "id": "vnF83zWP7lmJ"
   },
   "source": [
    "## [Step 2] Dataset Preprocessing\n",
    "\n",
    "The easiest way to load the Iris dataset is to use the built-in functionality of *scikit-learn*.\n",
    "\n",
    "You can load the Iris dataset with the following commmands:\n",
    "\n",
    "``from sklearn import datasets``\n",
    "\n",
    "``iris = datasets.load_iris()``\n",
    "\n",
    "To familiarize ourselves with the structure of a dataset and to get to know the tooling we need to load our own datasets we will load the dataset ourselves.\n",
    "\n"
   ]
  },
  {
   "cell_type": "markdown",
   "metadata": {
    "id": "D7GvCv3X7lmK"
   },
   "source": [
    "### Downloading the Data\n",
    "\n",
    "The data for the Iris dataset can be downloaded from.\n",
    "\n",
    "https://archive.ics.uci.edu/ml/machine-learning-databases/iris/\n",
    "    \n",
    "The web directory contains two files that are important for us:\n",
    "\n",
    "* iris.data\n",
    "* iris.names\n",
    "\n",
    "On a Linux or Mac OS machine you can use the following commands to download the files to a local directory.\n"
   ]
  },
  {
   "cell_type": "code",
   "execution_count": 1,
   "metadata": {
    "ExecuteTime": {
     "end_time": "2023-10-22T20:58:16.456172Z",
     "start_time": "2023-10-22T20:58:16.192576Z"
    },
    "colab": {
     "base_uri": "https://localhost:8080/"
    },
    "id": "iJVM0RgZ7lmK",
    "outputId": "a1949e85-6f58-49fe-b10c-ec2c9fc3745d"
   },
   "outputs": [
    {
     "name": "stdout",
     "output_type": "stream",
     "text": [
      "--2023-10-23 22:17:00--  https://archive.ics.uci.edu/ml/machine-learning-databases/iris/iris.data\n",
      "Resolving archive.ics.uci.edu (archive.ics.uci.edu)... 128.195.10.252\n",
      "Connecting to archive.ics.uci.edu (archive.ics.uci.edu)|128.195.10.252|:443... connected.\n",
      "HTTP request sent, awaiting response... 200 OK\n",
      "Length: unspecified\n",
      "Saving to: ‘iris.data’\n",
      "\n",
      "iris.data               [ <=>                ]   4.44K  --.-KB/s    in 0s      \n",
      "\n",
      "2023-10-23 22:17:01 (52.3 MB/s) - ‘iris.data’ saved [4551]\n",
      "\n",
      "--2023-10-23 22:17:01--  https://archive.ics.uci.edu/ml/machine-learning-databases/iris/iris.names\n",
      "Resolving archive.ics.uci.edu (archive.ics.uci.edu)... 128.195.10.252\n",
      "Connecting to archive.ics.uci.edu (archive.ics.uci.edu)|128.195.10.252|:443... connected.\n",
      "HTTP request sent, awaiting response... 200 OK\n",
      "Length: unspecified\n",
      "Saving to: ‘iris.names’\n",
      "\n",
      "iris.names              [ <=>                ]   2.93K  --.-KB/s    in 0s      \n",
      "\n",
      "2023-10-23 22:17:02 (408 MB/s) - ‘iris.names’ saved [2998]\n",
      "\n"
     ]
    }
   ],
   "source": [
    "# wget is a handy command line utility that allows downloading the specified URL:\n",
    "\n",
    "# - iris.data contains the raw data\n",
    "!wget https://archive.ics.uci.edu/ml/machine-learning-databases/iris/iris.data\n",
    "    \n",
    "# - Optional: iris.name contains a description of the dataset\n",
    "!wget https://archive.ics.uci.edu/ml/machine-learning-databases/iris/iris.names"
   ]
  },
  {
   "cell_type": "markdown",
   "metadata": {
    "id": "-7p-HZka7lmL"
   },
   "source": [
    "### Inspecting the Iris Dataset Format\n",
    "\n",
    "Using the command line (or a text editor) we can inspect the dataset.\n",
    "\n",
    "The `!` operator will allow you to execute command line commands from a Jupyter cell. \n",
    "This should work on all supported operating systems (Mac OS, Linux, Windows).\n",
    "\n",
    "On a Mac or Linux machine you can make use of the following command line commands:\n",
    "\n",
    "* `head` : Show top n lines of a text file\n",
    "* `tail` : Show last n lines of a text file\n",
    "* `cat`  : Print full content of a text file\n",
    "* `wc -l`: Count number of lines of a text file\n",
    "\n",
    "On a Windows machine the following should work:\n",
    "\n",
    "* `more` : Show content of a text file (might hang in Jupyter)\n",
    "* `type` : Print content of a text file "
   ]
  },
  {
   "cell_type": "code",
   "execution_count": 2,
   "metadata": {
    "colab": {
     "base_uri": "https://localhost:8080/"
    },
    "id": "BaJTvzS47lmM",
    "outputId": "c9f4ecc3-7f6a-40fd-a0ea-58a2c8d2fcd9"
   },
   "outputs": [
    {
     "name": "stdout",
     "output_type": "stream",
     "text": [
      "4.9,3.0,1.4,0.2,Iris-setosa\r\n",
      "4.7,3.2,1.3,0.2,Iris-setosa\r\n",
      "4.6,3.1,1.5,0.2,Iris-setosa\r\n",
      "5.0,3.6,1.4,0.2,Iris-setosa\r\n",
      "5.4,3.9,1.7,0.4,Iris-setosa\r\n",
      "4.6,3.4,1.4,0.3,Iris-setosa\r\n",
      "5.0,3.4,1.5,0.2,Iris-setosa\r\n",
      "4.4,2.9,1.4,0.2,Iris-setosa\r\n",
      "4.9,3.1,1.5,0.1,Iris-setosa\r\n",
      "5.4,3.7,1.5,0.2,Iris-setosa\r\n",
      "4.8,3.4,1.6,0.2,Iris-setosa\r\n",
      "4.8,3.0,1.4,0.1,Iris-setosa\r\n",
      "4.3,3.0,1.1,0.1,Iris-setosa\r\n",
      "5.8,4.0,1.2,0.2,Iris-setosa\r\n",
      "5.7,4.4,1.5,0.4,Iris-setosa\r\n",
      "5.4,3.9,1.3,0.4,Iris-setosa\r\n",
      "5.1,3.5,1.4,0.3,Iris-setosa\r\n",
      "5.7,3.8,1.7,0.3,Iris-setosa\r\n",
      "5.1,3.8,1.5,0.3,Iris-setosa\r\n",
      "5.4,3.4,1.7,0.2,Iris-setosa\r\n",
      "5.1,3.7,1.5,0.4,Iris-setosa\r\n",
      "4.6,3.6,1.0,0.2,Iris-setosa\r\n",
      "5.1,3.3,1.7,0.5,Iris-setosa\r\n",
      "4.8,3.4,1.9,0.2,Iris-setosa\r\n",
      "5.0,3.0,1.6,0.2,Iris-setosa\r\n",
      "5.0,3.4,1.6,0.4,Iris-setosa\r\n",
      "5.2,3.5,1.5,0.2,Iris-setosa\r\n",
      "5.2,3.4,1.4,0.2,Iris-setosa\r\n",
      "4.7,3.2,1.6,0.2,Iris-setosa\r\n",
      "4.8,3.1,1.6,0.2,Iris-setosa\r\n",
      "5.4,3.4,1.5,0.4,Iris-setosa\r\n",
      "5.2,4.1,1.5,0.1,Iris-setosa\r\n",
      "5.5,4.2,1.4,0.2,Iris-setosa\r\n",
      "4.9,3.1,1.5,0.1,Iris-setosa\r\n",
      "5.0,3.2,1.2,0.2,Iris-setosa\r\n",
      "5.5,3.5,1.3,0.2,Iris-setosa\r\n",
      "4.9,3.1,1.5,0.1,Iris-setosa\r\n",
      "4.4,3.0,1.3,0.2,Iris-setosa\r\n",
      "5.1,3.4,1.5,0.2,Iris-setosa\r\n",
      "5.0,3.5,1.3,0.3,Iris-setosa\r\n",
      "4.5,2.3,1.3,0.3,Iris-setosa\r\n",
      "4.4,3.2,1.3,0.2,Iris-setosa\r\n",
      "5.0,3.5,1.6,0.6,Iris-setosa\r\n",
      "5.1,3.8,1.9,0.4,Iris-setosa\r\n",
      "4.8,3.0,1.4,0.3,Iris-setosa\r\n",
      "5.1,3.8,1.6,0.2,Iris-setosa\r\n",
      "4.6,3.2,1.4,0.2,Iris-setosa\r\n",
      "5.3,3.7,1.5,0.2,Iris-setosa\r\n",
      "5.0,3.3,1.4,0.2,Iris-setosa\r\n",
      "7.0,3.2,4.7,1.4,Iris-versicolor\r\n",
      "6.4,3.2,4.5,1.5,Iris-versicolor\r\n",
      "6.9,3.1,4.9,1.5,Iris-versicolor\r\n",
      "5.5,2.3,4.0,1.3,Iris-versicolor\r\n",
      "6.5,2.8,4.6,1.5,Iris-versicolor\r\n",
      "5.7,2.8,4.5,1.3,Iris-versicolor\r\n",
      "6.3,3.3,4.7,1.6,Iris-versicolor\r\n",
      "4.9,2.4,3.3,1.0,Iris-versicolor\r\n",
      "6.6,2.9,4.6,1.3,Iris-versicolor\r\n",
      "5.2,2.7,3.9,1.4,Iris-versicolor\r\n",
      "5.0,2.0,3.5,1.0,Iris-versicolor\r\n",
      "5.9,3.0,4.2,1.5,Iris-versicolor\r\n",
      "6.0,2.2,4.0,1.0,Iris-versicolor\r\n",
      "6.1,2.9,4.7,1.4,Iris-versicolor\r\n",
      "5.6,2.9,3.6,1.3,Iris-versicolor\r\n",
      "6.7,3.1,4.4,1.4,Iris-versicolor\r\n",
      "5.6,3.0,4.5,1.5,Iris-versicolor\r\n",
      "5.8,2.7,4.1,1.0,Iris-versicolor\r\n",
      "6.2,2.2,4.5,1.5,Iris-versicolor\r\n",
      "5.6,2.5,3.9,1.1,Iris-versicolor\r\n",
      "5.9,3.2,4.8,1.8,Iris-versicolor\r\n",
      "6.1,2.8,4.0,1.3,Iris-versicolor\r\n",
      "6.3,2.5,4.9,1.5,Iris-versicolor\r\n",
      "6.1,2.8,4.7,1.2,Iris-versicolor\r\n",
      "6.4,2.9,4.3,1.3,Iris-versicolor\r\n",
      "6.6,3.0,4.4,1.4,Iris-versicolor\r\n",
      "6.8,2.8,4.8,1.4,Iris-versicolor\r\n",
      "6.7,3.0,5.0,1.7,Iris-versicolor\r\n",
      "6.0,2.9,4.5,1.5,Iris-versicolor\r\n",
      "5.7,2.6,3.5,1.0,Iris-versicolor\r\n",
      "5.5,2.4,3.8,1.1,Iris-versicolor\r\n",
      "5.5,2.4,3.7,1.0,Iris-versicolor\r\n",
      "5.8,2.7,3.9,1.2,Iris-versicolor\r\n",
      "6.0,2.7,5.1,1.6,Iris-versicolor\r\n",
      "5.4,3.0,4.5,1.5,Iris-versicolor\r\n",
      "6.0,3.4,4.5,1.6,Iris-versicolor\r\n",
      "6.7,3.1,4.7,1.5,Iris-versicolor\r\n",
      "6.3,2.3,4.4,1.3,Iris-versicolor\r\n",
      "5.6,3.0,4.1,1.3,Iris-versicolor\r\n",
      "5.5,2.5,4.0,1.3,Iris-versicolor\r\n",
      "5.5,2.6,4.4,1.2,Iris-versicolor\r\n",
      "6.1,3.0,4.6,1.4,Iris-versicolor\r\n",
      "5.8,2.6,4.0,1.2,Iris-versicolor\r\n",
      "5.0,2.3,3.3,1.0,Iris-versicolor\r\n",
      "5.6,2.7,4.2,1.3,Iris-versicolor\r\n",
      "5.7,3.0,4.2,1.2,Iris-versicolor\r\n",
      "5.7,2.9,4.2,1.3,Iris-versicolor\r\n",
      "6.2,2.9,4.3,1.3,Iris-versicolor\r\n",
      "5.1,2.5,3.0,1.1,Iris-versicolor\r\n",
      "5.7,2.8,4.1,1.3,Iris-versicolor\r\n",
      "6.3,3.3,6.0,2.5,Iris-virginica\r\n",
      "5.8,2.7,5.1,1.9,Iris-virginica\r\n",
      "7.1,3.0,5.9,2.1,Iris-virginica\r\n",
      "6.3,2.9,5.6,1.8,Iris-virginica\r\n",
      "6.5,3.0,5.8,2.2,Iris-virginica\r\n",
      "7.6,3.0,6.6,2.1,Iris-virginica\r\n",
      "4.9,2.5,4.5,1.7,Iris-virginica\r\n",
      "7.3,2.9,6.3,1.8,Iris-virginica\r\n",
      "6.7,2.5,5.8,1.8,Iris-virginica\r\n",
      "7.2,3.6,6.1,2.5,Iris-virginica\r\n",
      "6.5,3.2,5.1,2.0,Iris-virginica\r\n",
      "6.4,2.7,5.3,1.9,Iris-virginica\r\n",
      "6.8,3.0,5.5,2.1,Iris-virginica\r\n",
      "5.7,2.5,5.0,2.0,Iris-virginica\r\n",
      "5.8,2.8,5.1,2.4,Iris-virginica\r\n",
      "6.4,3.2,5.3,2.3,Iris-virginica\r\n",
      "6.5,3.0,5.5,1.8,Iris-virginica\r\n",
      "7.7,3.8,6.7,2.2,Iris-virginica\r\n",
      "7.7,2.6,6.9,2.3,Iris-virginica\r\n",
      "6.0,2.2,5.0,1.5,Iris-virginica\r\n",
      "6.9,3.2,5.7,2.3,Iris-virginica\r\n",
      "5.6,2.8,4.9,2.0,Iris-virginica\r\n",
      "7.7,2.8,6.7,2.0,Iris-virginica\r\n",
      "6.3,2.7,4.9,1.8,Iris-virginica\r\n",
      "6.7,3.3,5.7,2.1,Iris-virginica\r\n",
      "7.2,3.2,6.0,1.8,Iris-virginica\r\n",
      "6.2,2.8,4.8,1.8,Iris-virginica\r\n",
      "6.1,3.0,4.9,1.8,Iris-virginica\r\n",
      "6.4,2.8,5.6,2.1,Iris-virginica\r\n",
      "7.2,3.0,5.8,1.6,Iris-virginica\r\n",
      "7.4,2.8,6.1,1.9,Iris-virginica\r\n",
      "7.9,3.8,6.4,2.0,Iris-virginica\r\n",
      "6.4,2.8,5.6,2.2,Iris-virginica\r\n",
      "6.3,2.8,5.1,1.5,Iris-virginica\r\n",
      "6.1,2.6,5.6,1.4,Iris-virginica\r\n",
      "7.7,3.0,6.1,2.3,Iris-virginica\r\n",
      "6.3,3.4,5.6,2.4,Iris-virginica\r\n",
      "6.4,3.1,5.5,1.8,Iris-virginica\r\n",
      "6.0,3.0,4.8,1.8,Iris-virginica\r\n",
      "6.9,3.1,5.4,2.1,Iris-virginica\r\n",
      "6.7,3.1,5.6,2.4,Iris-virginica\r\n",
      "6.9,3.1,5.1,2.3,Iris-virginica\r\n",
      "5.8,2.7,5.1,1.9,Iris-virginica\r\n",
      "6.8,3.2,5.9,2.3,Iris-virginica\r\n",
      "6.7,3.3,5.7,2.5,Iris-virginica\r\n",
      "6.7,3.0,5.2,2.3,Iris-virginica\r\n",
      "6.3,2.5,5.0,1.9,Iris-virginica\r\n",
      "6.5,3.0,5.2,2.0,Iris-virginica\r\n",
      "6.2,3.4,5.4,2.3,Iris-virginica\r\n",
      "5.9,3.0,5.1,1.8,Iris-virginica\r\n",
      "\r\n"
     ]
    }
   ],
   "source": [
    "# head and tail are useful command line utilities on a Linux machine that allow us to see the first n or last \n",
    "# n lines of a text file.\n",
    "\n",
    "# Take your time to inspect both files with the head and tail commands. If you know that a file is not too long you can\n",
    "# also make use of the cat command that prints an entire files contents. For large files this is not advised as it can \n",
    "# easily overpower the JavaScript-based rendering on the browser and cause it to crash.\n",
    "\n",
    "!tail -n 150 iris.data"
   ]
  },
  {
   "cell_type": "markdown",
   "metadata": {
    "id": "jh3Xc7ro7lmN"
   },
   "source": [
    "As we can see the Iris dataset is a `CSV` (Comma Separated Values) file.\n",
    "\n",
    "Each row contains 5 values: 4 `double` values and a `string`.\n",
    "The 4 `double` values represent the 4 `features` (in this case measurements of the plant).\n",
    "The `string` value represents the `class` (type) of plant."
   ]
  },
  {
   "cell_type": "markdown",
   "metadata": {
    "id": "fabyISRj7lmN"
   },
   "source": [
    "## [Step 3] Provision: Loading the Dataset into a Dataframe\n",
    "\n",
    "Provisioning data means making data available in the expected format of a library or application program.\n",
    "In our case we will be using the **scikit-learn** library and the machine learning algorithms that are available as part of it. \n",
    "\n",
    "### Pandas\n",
    "\n",
    "Pandas is a library for handling of dataframes and the loading from and to other dataformats.\n",
    "\n",
    "We will start of with the following initial command:\n",
    "\n",
    "* `import pandas as pd` : Importing as `pd` is a common convention\n",
    "* `pd.read_csv()` : Read CSV input into a dataframe\n",
    "\n",
    "In order to understand how to use the read_csv() method we can use the `?` operator as shown in the cell below.\n",
    "\n",
    "This will pull up documentation for the method parameters, the return type, and example usage (the latter at the end of the documentation)."
   ]
  },
  {
   "cell_type": "code",
   "execution_count": 3,
   "metadata": {
    "id": "1OJ9Zlqx7lmO"
   },
   "outputs": [],
   "source": [
    "import pandas as pd"
   ]
  },
  {
   "cell_type": "markdown",
   "metadata": {
    "id": "lOnZ0ruD7lmO"
   },
   "source": [
    "### Exercise: Load the Iris.data CSV file with pandas\n",
    "\n",
    "Take a look at the documentation of the read_csv() method and load the `Iris.data` file with pandas.\n",
    "In case you are missing the pandas package use the `!conda install -y` functionality to pull and install the package. "
   ]
  },
  {
   "cell_type": "code",
   "execution_count": 4,
   "metadata": {
    "id": "BJv6GTqY7lmO"
   },
   "outputs": [],
   "source": [
    "# load the Iris.data CSV file into a dataframe called iris_dataframe\n",
    "\n",
    "iris_dataframe = pd.read_csv('iris.data', header=None)"
   ]
  },
  {
   "cell_type": "code",
   "execution_count": 5,
   "metadata": {
    "colab": {
     "base_uri": "https://localhost:8080/",
     "height": 201
    },
    "id": "MAO57EFc7lmO",
    "outputId": "25be8895-be88-4b32-85bf-b2e76656fbb9"
   },
   "outputs": [
    {
     "data": {
      "text/html": [
       "<div>\n",
       "<style scoped>\n",
       "    .dataframe tbody tr th:only-of-type {\n",
       "        vertical-align: middle;\n",
       "    }\n",
       "\n",
       "    .dataframe tbody tr th {\n",
       "        vertical-align: top;\n",
       "    }\n",
       "\n",
       "    .dataframe thead th {\n",
       "        text-align: right;\n",
       "    }\n",
       "</style>\n",
       "<table border=\"1\" class=\"dataframe\">\n",
       "  <thead>\n",
       "    <tr style=\"text-align: right;\">\n",
       "      <th></th>\n",
       "      <th>0</th>\n",
       "      <th>1</th>\n",
       "      <th>2</th>\n",
       "      <th>3</th>\n",
       "      <th>4</th>\n",
       "    </tr>\n",
       "  </thead>\n",
       "  <tbody>\n",
       "    <tr>\n",
       "      <th>0</th>\n",
       "      <td>5.1</td>\n",
       "      <td>3.5</td>\n",
       "      <td>1.4</td>\n",
       "      <td>0.2</td>\n",
       "      <td>Iris-setosa</td>\n",
       "    </tr>\n",
       "    <tr>\n",
       "      <th>1</th>\n",
       "      <td>4.9</td>\n",
       "      <td>3.0</td>\n",
       "      <td>1.4</td>\n",
       "      <td>0.2</td>\n",
       "      <td>Iris-setosa</td>\n",
       "    </tr>\n",
       "    <tr>\n",
       "      <th>2</th>\n",
       "      <td>4.7</td>\n",
       "      <td>3.2</td>\n",
       "      <td>1.3</td>\n",
       "      <td>0.2</td>\n",
       "      <td>Iris-setosa</td>\n",
       "    </tr>\n",
       "    <tr>\n",
       "      <th>3</th>\n",
       "      <td>4.6</td>\n",
       "      <td>3.1</td>\n",
       "      <td>1.5</td>\n",
       "      <td>0.2</td>\n",
       "      <td>Iris-setosa</td>\n",
       "    </tr>\n",
       "    <tr>\n",
       "      <th>4</th>\n",
       "      <td>5.0</td>\n",
       "      <td>3.6</td>\n",
       "      <td>1.4</td>\n",
       "      <td>0.2</td>\n",
       "      <td>Iris-setosa</td>\n",
       "    </tr>\n",
       "  </tbody>\n",
       "</table>\n",
       "</div>"
      ],
      "text/plain": [
       "     0    1    2    3            4\n",
       "0  5.1  3.5  1.4  0.2  Iris-setosa\n",
       "1  4.9  3.0  1.4  0.2  Iris-setosa\n",
       "2  4.7  3.2  1.3  0.2  Iris-setosa\n",
       "3  4.6  3.1  1.5  0.2  Iris-setosa\n",
       "4  5.0  3.6  1.4  0.2  Iris-setosa"
      ]
     },
     "execution_count": 5,
     "metadata": {},
     "output_type": "execute_result"
    }
   ],
   "source": [
    "# You can use the head() method in order to inspect the loaded dataframe.\n",
    "# Your result should look exactly like shown below.\n",
    "# If your result looks different then please have a look at the documentation of the parameters of the read_csv method \n",
    "# and load the data again. \n",
    "\n",
    "iris_dataframe.head()"
   ]
  },
  {
   "cell_type": "code",
   "execution_count": 6,
   "metadata": {},
   "outputs": [],
   "source": [
    "# Assign the columns more descriptive names for future reference\n",
    "\n",
    "iris_dataframe.columns = [\"sepal_length\", \"sepal_width\", \"petal_length\", \"petal_width\", \"class\"]"
   ]
  },
  {
   "cell_type": "markdown",
   "metadata": {
    "id": "4y7znJUB7lmP"
   },
   "source": [
    "***Exercise***: Inspect the iris_dataframe with the shape, describe(), and len() attributes and methods."
   ]
  },
  {
   "cell_type": "code",
   "execution_count": 7,
   "metadata": {
    "id": "y9EB6BPZ7lmQ"
   },
   "outputs": [
    {
     "data": {
      "text/html": [
       "<div>\n",
       "<style scoped>\n",
       "    .dataframe tbody tr th:only-of-type {\n",
       "        vertical-align: middle;\n",
       "    }\n",
       "\n",
       "    .dataframe tbody tr th {\n",
       "        vertical-align: top;\n",
       "    }\n",
       "\n",
       "    .dataframe thead th {\n",
       "        text-align: right;\n",
       "    }\n",
       "</style>\n",
       "<table border=\"1\" class=\"dataframe\">\n",
       "  <thead>\n",
       "    <tr style=\"text-align: right;\">\n",
       "      <th></th>\n",
       "      <th>sepal_length</th>\n",
       "      <th>sepal_width</th>\n",
       "      <th>petal_length</th>\n",
       "      <th>petal_width</th>\n",
       "    </tr>\n",
       "  </thead>\n",
       "  <tbody>\n",
       "    <tr>\n",
       "      <th>count</th>\n",
       "      <td>150.000000</td>\n",
       "      <td>150.000000</td>\n",
       "      <td>150.000000</td>\n",
       "      <td>150.000000</td>\n",
       "    </tr>\n",
       "    <tr>\n",
       "      <th>mean</th>\n",
       "      <td>5.843333</td>\n",
       "      <td>3.054000</td>\n",
       "      <td>3.758667</td>\n",
       "      <td>1.198667</td>\n",
       "    </tr>\n",
       "    <tr>\n",
       "      <th>std</th>\n",
       "      <td>0.828066</td>\n",
       "      <td>0.433594</td>\n",
       "      <td>1.764420</td>\n",
       "      <td>0.763161</td>\n",
       "    </tr>\n",
       "    <tr>\n",
       "      <th>min</th>\n",
       "      <td>4.300000</td>\n",
       "      <td>2.000000</td>\n",
       "      <td>1.000000</td>\n",
       "      <td>0.100000</td>\n",
       "    </tr>\n",
       "    <tr>\n",
       "      <th>25%</th>\n",
       "      <td>5.100000</td>\n",
       "      <td>2.800000</td>\n",
       "      <td>1.600000</td>\n",
       "      <td>0.300000</td>\n",
       "    </tr>\n",
       "    <tr>\n",
       "      <th>50%</th>\n",
       "      <td>5.800000</td>\n",
       "      <td>3.000000</td>\n",
       "      <td>4.350000</td>\n",
       "      <td>1.300000</td>\n",
       "    </tr>\n",
       "    <tr>\n",
       "      <th>75%</th>\n",
       "      <td>6.400000</td>\n",
       "      <td>3.300000</td>\n",
       "      <td>5.100000</td>\n",
       "      <td>1.800000</td>\n",
       "    </tr>\n",
       "    <tr>\n",
       "      <th>max</th>\n",
       "      <td>7.900000</td>\n",
       "      <td>4.400000</td>\n",
       "      <td>6.900000</td>\n",
       "      <td>2.500000</td>\n",
       "    </tr>\n",
       "  </tbody>\n",
       "</table>\n",
       "</div>"
      ],
      "text/plain": [
       "       sepal_length  sepal_width  petal_length  petal_width\n",
       "count    150.000000   150.000000    150.000000   150.000000\n",
       "mean       5.843333     3.054000      3.758667     1.198667\n",
       "std        0.828066     0.433594      1.764420     0.763161\n",
       "min        4.300000     2.000000      1.000000     0.100000\n",
       "25%        5.100000     2.800000      1.600000     0.300000\n",
       "50%        5.800000     3.000000      4.350000     1.300000\n",
       "75%        6.400000     3.300000      5.100000     1.800000\n",
       "max        7.900000     4.400000      6.900000     2.500000"
      ]
     },
     "execution_count": 7,
     "metadata": {},
     "output_type": "execute_result"
    }
   ],
   "source": [
    "# Inspect the iris_dataframe\n",
    "\n",
    "iris_dataframe.describe()"
   ]
  },
  {
   "cell_type": "markdown",
   "metadata": {
    "id": "s2kIJmQP7lmQ"
   },
   "source": [
    "### Exercise: Create an Input and Response Dataframe\n",
    "\n",
    "If we want to train a supervised machine learning model based on the Iris dataset we have to split our original iris_dataframe into an Input and a Response dataframe.\n",
    "\n",
    "* The `Input` dataframe contains the `features` that are the input for the learning and decision making of the machine learning model.\n",
    "* The `Response` (a.k.a. `Target`) dataframe contains the correct expected values (a.k.a answers) that the system is suppposed to learn.\n",
    "\n",
    "***Iris Setosa Classifier***\n",
    "\n",
    "If we want to train a classifier (a machine learning model that predicts the class/type of Setosa flower based on the 4 measurements) then the content of the `Input` and `Response` dataframes would consist of the following:\n",
    "\n",
    "* `Input`: Each row of the dataframe consists of the 4 measurement values\n",
    "* `Response` : Each row of the dataframe consists of the `class` of the flower \n",
    "\n",
    "To create these two dataframes we can use the functionality provided by pandas:\n",
    "\n",
    "* https://pandas.pydata.org/pandas-docs/stable/user_guide/indexing.html#basics holds the full documentation but is not very easy to read\n",
    "\n",
    "The main functionality we will make use of are:\n",
    "\n",
    "***Selecting columns by label:***\n",
    "\n",
    "We can use `[]` brackets to select a subset of a dataframe. To select a set of columns we can use an array of labels (column headings).\n",
    "\n",
    "E.g. `sample_dataframe[[\"sepal_length\", \"class\"]]` would give us back a dataframe consisting of the columns with the ***names*** `sepal_length` and `class`.\n",
    "\n",
    "Use `sample_dataframe.columns` to get the available columns and their labels listed. \n",
    "\n",
    "\n",
    "***Slicing subsets by row:***\n",
    "\n",
    "This can be achieved by using the `[start:end]` operator.\n",
    "It is a pretty simple way to select rows.\n",
    "\n",
    "* `sample_dataframe[0:5]` : Select row 0,1,2,3,4 of sample_dataframe (***end*** is not inclusive)\n",
    "* `sample_dataframe[start:]` : Select everything from start until the end of the dataframe\n",
    "* `sample_dataframe[:end]` : Select everything from the start until end - 1 index of the dataframe\n",
    "* `sample_dataframe[:]` This would select the full dataframe (all rows)\n",
    "\n",
    "This notation is not limited to dataframes. It works with all lists in Python.  For a list the use of this operator will result in a new copy of the dataframe.\n",
    "\n",
    "Better documentation of the slice operator is provided here: https://stackoverflow.com/questions/509211/understanding-slice-notation?page=1&tab=votes#tab-top\n",
    "\n",
    "Based on the above documentation create the `Input` and `Response` dataframes in the cell below."
   ]
  },
  {
   "cell_type": "code",
   "execution_count": 8,
   "metadata": {
    "id": "eaemCnaP7lmR"
   },
   "outputs": [],
   "source": [
    "# There are different naming conventions people use for these dataframes\n",
    "# input, response or X,Y are common. input, target is also commonly used.\n",
    "iris_dataframe_input = iris_dataframe[[\"sepal_length\", \"sepal_width\", \"petal_length\", \"petal_width\"]]\n",
    "iris_dataframe_response = iris_dataframe[[\"class\"]]"
   ]
  },
  {
   "cell_type": "markdown",
   "metadata": {
    "id": "upTdzrrd7lmR"
   },
   "source": [
    "***Exercise: Inspect the newly created dataframes***\n",
    "\n",
    "Use the tooling we introduced before in order to inspect your newly created dataframes. \n",
    "\n",
    "* `head()`\n",
    "* `shape`\n",
    "* `len()`\n",
    "* `describe()`\n"
   ]
  },
  {
   "cell_type": "code",
   "execution_count": 9,
   "metadata": {
    "id": "XtLP3cqB7lmR"
   },
   "outputs": [],
   "source": [
    "# Inspect your dataframes with the above tools in order to get familiar with them\n",
    "# Inspecting the intermediary artifacts in the machine learning workflow is a common and crucial task.\n",
    "# It is easy to imagine how one can be off when sub-setting or slicing through the input data by making a mistake. \n",
    "# These kind of errors are usually disastrous in terms of the outcome of the trained model. The earlier we catch them\n",
    "# the less expensive they are to fix.\n"
   ]
  },
  {
   "cell_type": "markdown",
   "metadata": {
    "id": "z46Qso1Z7lmR"
   },
   "source": [
    "## [Step 4] Training Configuration\n",
    "\n",
    "The next step consist of creating the configuration for the training. \n",
    "\n",
    "The main dependencies for choosing a training setup are:\n",
    "\n",
    "* The data used for training (data type, quality, amount)\n",
    "* The task we want to solve (what we want the machine learning system to achieve)\n",
    "\n",
    "Based on these two aspects designing the training set up consists of the following steps:\n",
    "\n",
    "1. Choose training algorithm\n",
    "2. Create initial configuration for training algorithm\n",
    "\n",
    "### Criteria for Choosing A ML Algorithm\n",
    "\n",
    "Some main criteria for choosing a training algorithm are the following:\n",
    "\n",
    "* Task Fit : I.e. can the task we want to solve with ML be solved with the given algorithm\n",
    "* Scalability: How scalable in terms of the shape (columns, rows) of the input data is the algorithm \n",
    "    * The amount of features has a major impact on the scalability of algorithms\n",
    "    * The amount of samples (rows) has a major impact on the execution time of the algorithm\n",
    "* Expected Performance: What is the expected accuracy of the algorithm.\n",
    "* Interpretability: How easy, hard is it to understand what is happening in the algorithm. How hard would it be to 'debug' the behaviour of the algorithm.\n",
    "* Updatable Learning: Can the learned model be updated with more data at a later stage.\n",
    "* Availability: In the pragmatic sense; is a trusty implementation of the algorithm available (also from a license perspective).\n",
    "* Solution requirements: Do we have requirements from the software solution side? E.g. maximum latency, memory limitations, etc ... . \n",
    "\n",
    "As the above list highlights, choosing the 'right' algorithm is a complex tasks with many potential considerations.\n",
    "On the flip side it means that making the right choices has massive potential value. \n",
    "\n",
    "### Choosing an Initial Configuration\n",
    "\n",
    "The choice of an initial training configuration often depends mainly on:\n",
    "\n",
    "* Stats of the training data \n",
    "     * Hyperparameters often allow us to adjust the training to the amount of the training data\n",
    "* Experience or documented well working configurations \n",
    "     * This is often based on identifying `baselines` that worked well on data that we deem similar to our training data.\n",
    "     "
   ]
  },
  {
   "cell_type": "markdown",
   "metadata": {
    "id": "sKGLbE4J7lmS"
   },
   "source": [
    "### Classification Task\n",
    "\n",
    "One machine learning task that fits well to the Iris dataset is `classification`.\n",
    "`Classification` is the task of assigning a `class` (type) to samples based on the input features. \n",
    "For the Iris dataset that translates to using the features (4 measurements) as input for taking the decision (to classify) which type of Iris plant it is. "
   ]
  },
  {
   "cell_type": "markdown",
   "metadata": {
    "id": "vIh0Do-l7lmS"
   },
   "source": [
    "### Classification Algorithm\n",
    "\n",
    "Lets say we aim for classifing the type of Iris based on the input.\n",
    "\n",
    "This is the `task` that we want to solve.\n",
    "\n",
    "The choice of `task` informs the choice of our machine learning algorithm.\n",
    "In this case we choose a `classification algorithm`, also called `classifier`.\n",
    "\n",
    "A commonly used classification algorithm is called `logistic regression`.\n",
    "For our initial classification experiments we will make use of this algorithm type.\n",
    "\n",
    "We can make set up this algorithm by the following steps:\n",
    "\n",
    "* Import: `from sklearn.linear_model import LogisticRegression`\n",
    "* Instantiate Model Class: `LogisticRegression`\n",
    "\n"
   ]
  },
  {
   "cell_type": "code",
   "execution_count": 10,
   "metadata": {
    "id": "dVQMc-jT7lmT"
   },
   "outputs": [],
   "source": [
    "# Exercise: Set up the logistic regression model\n",
    "\n",
    "from sklearn.linear_model import LogisticRegression\n",
    "\n",
    "classifier = LogisticRegression()"
   ]
  },
  {
   "cell_type": "markdown",
   "metadata": {
    "id": "CB0Gj_0K7lmT"
   },
   "source": [
    "## [Step 5] Model Training Run\n",
    "\n",
    "Algorithms in scikit-learn can be trained by using the `fit` method. Calling it `fit` is based on the process of `fitting` the model's weights (also called model parameters) during training.\n",
    "`Fitting` means that the weights of the model are adjusted during the training (a.k.a learning) phase based on the input data we have seen.\n",
    "\n"
   ]
  },
  {
   "cell_type": "markdown",
   "metadata": {
    "id": "l5uPDsOJ7lmT"
   },
   "source": [
    "### Training Run\n",
    "\n",
    "Training a model based on the input data is often referred to as executing or making a `training run`; or simply just a `run`. \n",
    "\n",
    "Common ways to use this terminology are e.g.:\n",
    "\n",
    "* \"I have made a run with the following input data and these hyperparameters\".\n",
    "* Which parameters (meaning hyperparameters) were used for the run?\n",
    "* What was the best run?\n",
    "\n",
    "Running training in scikit-learn can be based on executing the following:"
   ]
  },
  {
   "cell_type": "code",
   "execution_count": 11,
   "metadata": {
    "id": "YVGfs1En7lmT"
   },
   "outputs": [],
   "source": [
    "trained_model = classifier.fit(iris_dataframe_input.values, iris_dataframe_response.values.ravel())"
   ]
  },
  {
   "cell_type": "markdown",
   "metadata": {
    "id": "fXYlm8bJ7lmU"
   },
   "source": [
    "### Testing our trained model\n",
    "\n",
    "For a first easy test we can used the `predict` method as shown below.\n",
    "The predict method allows us to pass in data with the same format as the input data.\n",
    "\n",
    "As an exercise try passing in data with a different format. "
   ]
  },
  {
   "cell_type": "code",
   "execution_count": 12,
   "metadata": {
    "colab": {
     "base_uri": "https://localhost:8080/"
    },
    "id": "KJQTtktp7lmV",
    "outputId": "69bb92b2-7f3c-4dd9-a887-9d02ce622150"
   },
   "outputs": [
    {
     "data": {
      "text/plain": [
       "array(['Iris-setosa'], dtype=object)"
      ]
     },
     "execution_count": 12,
     "metadata": {},
     "output_type": "execute_result"
    }
   ],
   "source": [
    "trained_model.predict([[0.5,5.0,2.0,1.0]])"
   ]
  },
  {
   "cell_type": "markdown",
   "metadata": {
    "id": "TDp5Qoj77lmV"
   },
   "source": [
    "You can also use the slicing approach we introduced earlier to pass in a subset of the rows of our input data to test the model."
   ]
  },
  {
   "cell_type": "code",
   "execution_count": 13,
   "metadata": {
    "colab": {
     "base_uri": "https://localhost:8080/"
    },
    "id": "xUcUHmq67lmV",
    "outputId": "59cb742e-071f-44ff-b96f-e4be8947fcef"
   },
   "outputs": [
    {
     "name": "stderr",
     "output_type": "stream",
     "text": [
      "/Users/taylor/bfh/bfh/bfh-env/lib/python3.9/site-packages/sklearn/base.py:458: UserWarning: X has feature names, but LogisticRegression was fitted without feature names\n",
      "  warnings.warn(\n"
     ]
    },
    {
     "data": {
      "text/plain": [
       "array(['Iris-setosa', 'Iris-setosa', 'Iris-setosa', 'Iris-setosa',\n",
       "       'Iris-setosa', 'Iris-setosa', 'Iris-setosa', 'Iris-setosa',\n",
       "       'Iris-setosa', 'Iris-setosa'], dtype=object)"
      ]
     },
     "execution_count": 13,
     "metadata": {},
     "output_type": "execute_result"
    }
   ],
   "source": [
    "trained_model.predict(iris_dataframe_input[0:10])"
   ]
  },
  {
   "cell_type": "markdown",
   "metadata": {
    "id": "Ymg4QJ647lmV"
   },
   "source": [
    "## [Step 6] Evaluation"
   ]
  },
  {
   "cell_type": "code",
   "execution_count": 14,
   "metadata": {
    "colab": {
     "base_uri": "https://localhost:8080/"
    },
    "id": "vHsfiJ4B7lmV",
    "outputId": "066832d8-5deb-43bc-be8a-889bd67d4d1c"
   },
   "outputs": [
    {
     "name": "stderr",
     "output_type": "stream",
     "text": [
      "/Users/taylor/bfh/bfh/bfh-env/lib/python3.9/site-packages/sklearn/base.py:458: UserWarning: X has feature names, but LogisticRegression was fitted without feature names\n",
      "  warnings.warn(\n"
     ]
    },
    {
     "data": {
      "text/plain": [
       "0.9733333333333334"
      ]
     },
     "execution_count": 14,
     "metadata": {},
     "output_type": "execute_result"
    }
   ],
   "source": [
    "trained_model.score(iris_dataframe_input, iris_dataframe_response.values)"
   ]
  },
  {
   "cell_type": "markdown",
   "metadata": {
    "id": "Dov2Fjqn7lmV"
   },
   "source": [
    "## Splitting into Train and Test\n",
    "\n",
    "\n",
    "If we use the same samples for the training of the model and its evaluation, the measured performance is likely a bad\n",
    "indicator of the performance we can expect when we let the model take decisions on data it has not seen before.\n",
    "\n",
    "Testing with the same data that was used for training will usually result in a much higher score. This is due to the effect of fitting the weights the model learns completely on the seen samples.\n",
    "\n",
    "Because of that, the standard approach is to split the available labeled data into two parts before we start training of the ML model:\n",
    "* Train Portion\n",
    "* Test Portion\n",
    "\n",
    "The train portion is the part of the dataset that is used for the training of the model.\n",
    "The test portion is the part of the dataset that is ***excluded*** from the training of the model.\n",
    "This is also called ***holding out*** part of the data. This ***unseen data*** (i.e. data that the model has never seen before) is then used to evaluate how well the model is doing.\n",
    "\n",
    "Typical splits between train and test are 70/30 or 80/20. \n",
    "\n",
    "\n",
    "### Considering the Order of the Input Data\n",
    "\n",
    "When splitting the data into a test and train portion it is important to try to split the data in random fashion. \n",
    "We try to avoid an in-balance for the frequency of classes in either test or train, or an in-balance in terms of 'hard' and 'easy' cases when splitting the data.\n",
    "\n",
    "The best way to achieve this, is to randomly sample (or shuffle) the input data before making the split. \n",
    "\n",
    "Pandas offers us the `sample(frac=double_value)` method as a simple way to do this.\n"
   ]
  },
  {
   "cell_type": "markdown",
   "metadata": {
    "id": "O7vHZsJC7lmW"
   },
   "source": [
    "### Exercise: Create Train and Test datasets\n",
    "\n",
    "* Create a Train and Test portion of the input data.\n",
    "* You should take the original `iris_dataframe` as input for this\n",
    "* The iris_dataframe is pre-sorted by class. It is a good example of a case where shuffling or sampling from data before the split is a must. So you should start with this. "
   ]
  },
  {
   "cell_type": "code",
   "execution_count": 15,
   "metadata": {
    "id": "RZ0XQuC_7lmW"
   },
   "outputs": [],
   "source": [
    "iris_df_shuffled = iris_dataframe.sample(frac=1.0)\n",
    "\n",
    "iris_df_train = iris_df_shuffled[:100]\n",
    "iris_df_test = iris_df_shuffled[100:]\n",
    "\n",
    "iris_df_train_input = iris_df_train[[\"sepal_length\", \"sepal_width\", \"petal_length\", \"petal_width\"]]\n",
    "iris_df_train_response = iris_df_train[[\"class\"]]\n",
    "\n",
    "iris_df_test_input = iris_df_test[[\"sepal_length\", \"sepal_width\", \"petal_length\", \"petal_width\"]]\n",
    "iris_df_test_response = iris_df_test[[\"class\"]]"
   ]
  },
  {
   "cell_type": "markdown",
   "metadata": {
    "id": "qdk81hsR7lmW"
   },
   "source": [
    "### Exercise: Train Classifier on Train Dataset\n",
    "\n",
    "Take the train dataset you have created and use it to re-train the classifier."
   ]
  },
  {
   "cell_type": "code",
   "execution_count": 16,
   "metadata": {
    "id": "EN4zXQQ37lmW"
   },
   "outputs": [],
   "source": [
    "trained_model = classifier.fit(iris_df_train_input, iris_df_train_response.values.ravel())"
   ]
  },
  {
   "cell_type": "markdown",
   "metadata": {
    "id": "fZYKsTbZ7lmW"
   },
   "source": [
    "### Exercise: Evaluate Classifier with Test Dataset\n",
    "\n",
    "* Use the test dataset you have created and evaluate the classifier trained on the train dataset.\n",
    "* Execute the splitting, training and evaluation multiple times and observe what happens to the score.\n"
   ]
  },
  {
   "cell_type": "code",
   "execution_count": 17,
   "metadata": {
    "colab": {
     "base_uri": "https://localhost:8080/"
    },
    "id": "NgULK7wK7lmW",
    "outputId": "e815e16a-0bdc-47cb-db9c-afa9d9b29815"
   },
   "outputs": [
    {
     "data": {
      "text/plain": [
       "0.98"
      ]
     },
     "execution_count": 17,
     "metadata": {},
     "output_type": "execute_result"
    }
   ],
   "source": [
    "trained_model.score(iris_df_test_input, iris_df_test_response)"
   ]
  },
  {
   "cell_type": "markdown",
   "metadata": {},
   "source": [
    "### Classifier Report\n",
    "\n",
    "The `classification_report` function can be used to generate a detailed breakdown of the evaluation scores on class-level."
   ]
  },
  {
   "cell_type": "code",
   "execution_count": 18,
   "metadata": {},
   "outputs": [
    {
     "name": "stdout",
     "output_type": "stream",
     "text": [
      "                 precision    recall  f1-score   support\n",
      "\n",
      "    Iris-setosa       1.00      1.00      1.00        17\n",
      "Iris-versicolor       1.00      0.95      0.97        19\n",
      " Iris-virginica       0.93      1.00      0.97        14\n",
      "\n",
      "       accuracy                           0.98        50\n",
      "      macro avg       0.98      0.98      0.98        50\n",
      "   weighted avg       0.98      0.98      0.98        50\n",
      "\n"
     ]
    }
   ],
   "source": [
    "from sklearn.metrics import classification_report\n",
    "\n",
    "print(classification_report(iris_df_test_response, trained_model.predict(iris_df_test_input), target_names=trained_model.classes_))\n"
   ]
  },
  {
   "cell_type": "markdown",
   "metadata": {},
   "source": [
    "### Confusion Matrix\n",
    "\n",
    "A confusion matrix is a chart that visualizes the results of a classifier's output on the evaluation set. It shows a breakdown of the actual (true) label vs. the predicted labels for each class. Ideally, the true and predicted labels should overlap but when the classifier makes mistakes, we can use the confusion matrix to learn what kinds of mistakes it is making (e.g. which classes is it confusing)."
   ]
  },
  {
   "cell_type": "code",
   "execution_count": 19,
   "metadata": {
    "colab": {
     "base_uri": "https://localhost:8080/",
     "height": 610
    },
    "id": "7VMjUx8S7lmW",
    "outputId": "1dbd7929-6a14-4e42-f514-f7cad5908f03"
   },
   "outputs": [
    {
     "data": {
      "image/png": "[encoded data removed]",
      "text/plain": [
       "<Figure size 640x480 with 2 Axes>"
      ]
     },
     "metadata": {},
     "output_type": "display_data"
    }
   ],
   "source": [
    "import matplotlib.pyplot as plt\n",
    "from sklearn.metrics import confusion_matrix, ConfusionMatrixDisplay\n",
    "\n",
    "cm = confusion_matrix(iris_df_test_response, trained_model.predict(iris_df_test_input))\n",
    "disp = ConfusionMatrixDisplay(confusion_matrix=cm, display_labels=trained_model.classes_)\n",
    "disp.plot()\n",
    "plt.show()\n"
   ]
  },
  {
   "cell_type": "markdown",
   "metadata": {},
   "source": [
    "## Further Optimizations\n",
    "\n",
    "Scikit-learn allows plugging in various implementations of machine learning algorithms. Experimenting with different algorithms is a good way to develop an intuition for which algorithms work well for which scenarios.\n",
    "\n",
    "As an exercise, experiment with the configurations of the classifiers below and observe the impact on the resulting classification scores. "
   ]
  },
  {
   "cell_type": "code",
   "execution_count": 20,
   "metadata": {
    "colab": {
     "base_uri": "https://localhost:8080/"
    },
    "id": "YsxOm8I17lmX",
    "outputId": "29df8082-bb91-42fd-f275-35adc4f3a33e"
   },
   "outputs": [
    {
     "name": "stderr",
     "output_type": "stream",
     "text": [
      "100%|██████████| 6/6 [00:00<00:00, 37.31it/s]\n"
     ]
    },
    {
     "data": {
      "text/html": [
       "<div>\n",
       "<style scoped>\n",
       "    .dataframe tbody tr th:only-of-type {\n",
       "        vertical-align: middle;\n",
       "    }\n",
       "\n",
       "    .dataframe tbody tr th {\n",
       "        vertical-align: top;\n",
       "    }\n",
       "\n",
       "    .dataframe thead th {\n",
       "        text-align: right;\n",
       "    }\n",
       "</style>\n",
       "<table border=\"1\" class=\"dataframe\">\n",
       "  <thead>\n",
       "    <tr style=\"text-align: right;\">\n",
       "      <th></th>\n",
       "      <th>model</th>\n",
       "      <th>training_time</th>\n",
       "      <th>prediction_time</th>\n",
       "      <th>score</th>\n",
       "    </tr>\n",
       "  </thead>\n",
       "  <tbody>\n",
       "    <tr>\n",
       "      <th>0</th>\n",
       "      <td>KNeighborsClassifier</td>\n",
       "      <td>0.002814</td>\n",
       "      <td>0.005874</td>\n",
       "      <td>0.94</td>\n",
       "    </tr>\n",
       "    <tr>\n",
       "      <th>1</th>\n",
       "      <td>DecisionTreeClassifier</td>\n",
       "      <td>0.002362</td>\n",
       "      <td>0.000841</td>\n",
       "      <td>0.96</td>\n",
       "    </tr>\n",
       "    <tr>\n",
       "      <th>2</th>\n",
       "      <td>RandomForestClassifier</td>\n",
       "      <td>0.099380</td>\n",
       "      <td>0.005790</td>\n",
       "      <td>0.98</td>\n",
       "    </tr>\n",
       "    <tr>\n",
       "      <th>3</th>\n",
       "      <td>SVC</td>\n",
       "      <td>0.001716</td>\n",
       "      <td>0.001201</td>\n",
       "      <td>0.96</td>\n",
       "    </tr>\n",
       "    <tr>\n",
       "      <th>4</th>\n",
       "      <td>MultinomialNB</td>\n",
       "      <td>0.001622</td>\n",
       "      <td>0.000641</td>\n",
       "      <td>0.62</td>\n",
       "    </tr>\n",
       "    <tr>\n",
       "      <th>5</th>\n",
       "      <td>LogisticRegression</td>\n",
       "      <td>0.010753</td>\n",
       "      <td>0.000710</td>\n",
       "      <td>0.98</td>\n",
       "    </tr>\n",
       "  </tbody>\n",
       "</table>\n",
       "</div>"
      ],
      "text/plain": [
       "                    model  training_time  prediction_time  score\n",
       "0    KNeighborsClassifier       0.002814         0.005874   0.94\n",
       "1  DecisionTreeClassifier       0.002362         0.000841   0.96\n",
       "2  RandomForestClassifier       0.099380         0.005790   0.98\n",
       "3                     SVC       0.001716         0.001201   0.96\n",
       "4           MultinomialNB       0.001622         0.000641   0.62\n",
       "5      LogisticRegression       0.010753         0.000710   0.98"
      ]
     },
     "execution_count": 20,
     "metadata": {},
     "output_type": "execute_result"
    }
   ],
   "source": [
    "import time\n",
    "from tqdm import tqdm\n",
    "from sklearn.svm import SVC\n",
    "from sklearn.tree import DecisionTreeClassifier\n",
    "from sklearn.naive_bayes import MultinomialNB\n",
    "from sklearn.ensemble import RandomForestClassifier\n",
    "from sklearn.neighbors import KNeighborsClassifier\n",
    "\n",
    "# K-Nearest Neighbors\n",
    "# - n_neighbors: number of neighbors to consider (default: 5)\n",
    "# - weights: weighting of distance to neighbors: 'uniform' or 'distance' (default: 'uniform')\n",
    "knn = KNeighborsClassifier()\n",
    "\n",
    "# Decision Tree:\n",
    "# - max_depth: maximum depth of decision nodes (default: None)\n",
    "decision_tree = DecisionTreeClassifier(max_depth=2)\n",
    "\n",
    "# Random Forest\n",
    "# - n_estimators: number of individual decision trees used internally by the model (default: 100)\n",
    "random_forest = RandomForestClassifier()\n",
    "\n",
    "# Support Vector Machine:\n",
    "support_vector_machine = SVC()\n",
    "\n",
    "# Naive Bayes:\n",
    "naive_bayes = MultinomialNB()\n",
    "\n",
    "# Logistic Regression:\n",
    "# - max_iter: maximum number of iterations (default: 100)\n",
    "logistic_regression = LogisticRegression()\n",
    "\n",
    "classifiers = [\n",
    "    knn,\n",
    "    decision_tree,\n",
    "    random_forest,\n",
    "    support_vector_machine,\n",
    "    naive_bayes,\n",
    "    logistic_regression\n",
    "]\n",
    "\n",
    "model_metrics = []\n",
    "for classifier in tqdm(classifiers):\n",
    "    \n",
    "    # Train the classifier\n",
    "    start_time = time.time()\n",
    "    trained_model = classifier.fit(iris_df_train_input, iris_df_train_response.values.ravel())\n",
    "    end_training_time = time.time()\n",
    "    training_time_elapsed = end_training_time - start_time\n",
    "    \n",
    "    # Apply trained classifier to test set\n",
    "    start_time = time.time()\n",
    "    predictions = trained_model.predict(iris_df_test_input)\n",
    "    prediction_time = time.time()\n",
    "    prediction_time_elapsed = prediction_time - start_time\n",
    "    \n",
    "    # Measure model performance\n",
    "    score = classifier.score(iris_df_test_input, iris_df_test_response)\n",
    "    #print(model_score)\n",
    "    \n",
    "    # Record model metrics\n",
    "    model_metrics.append({\n",
    "        \"model\": trained_model.__class__.__name__,\n",
    "        \"training_time\": training_time_elapsed,\n",
    "        \"prediction_time\": prediction_time_elapsed,\n",
    "        \"score\": score,\n",
    "    })\n",
    "    \n",
    "# Print model metrics table\n",
    "pd.DataFrame(model_metrics)"
   ]
  },
  {
   "cell_type": "markdown",
   "metadata": {},
   "source": [
    "## Explainability\n",
    "\n",
    "Some models are easier to interpret than others. For instance, if we'd like to generate a set of rules for people to be able to identify Iris plants in the wild without using a computer, a simple Decision Tree model would likely be preferable over a neural network, even if the neural network might be some percentage points more accurate.\n",
    "\n",
    "How important the explainability of a model is will often depend on the use case."
   ]
  },
  {
   "cell_type": "code",
   "execution_count": 21,
   "metadata": {
    "id": "17wBNmXV8Nry"
   },
   "outputs": [
    {
     "data": {
      "image/png": "[encoded data removed]",
      "text/plain": [
       "<Figure size 640x480 with 1 Axes>"
      ]
     },
     "metadata": {},
     "output_type": "display_data"
    }
   ],
   "source": [
    "from sklearn import tree\n",
    "\n",
    "tree.plot_tree(decision_tree, feature_names=iris_dataframe.columns[:-1], class_names=trained_model.classes_, filled=True)\n",
    "plt.show()"
   ]
  },
  {
   "cell_type": "code",
   "execution_count": null,
   "metadata": {},
   "outputs": [],
   "source": []
  }
 ],
 "metadata": {
  "colab": {
   "provenance": []
  },
  "kernelspec": {
   "display_name": "Python 3 (ipykernel)",
   "language": "python",
   "name": "python3"
  },
  "language_info": {
   "codemirror_mode": {
    "name": "ipython",
    "version": 3
   },
   "file_extension": ".py",
   "mimetype": "text/x-python",
   "name": "python",
   "nbconvert_exporter": "python",
   "pygments_lexer": "ipython3",
   "version": "3.9.15"
  }
 },
 "nbformat": 4,
 "nbformat_minor": 1
}
