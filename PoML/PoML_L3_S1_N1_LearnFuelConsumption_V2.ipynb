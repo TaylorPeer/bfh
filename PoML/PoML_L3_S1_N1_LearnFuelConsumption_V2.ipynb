{
 "cells": [
  {
   "cell_type": "markdown",
   "metadata": {
    "id": "WFHyREmwNsJd"
   },
   "source": [
    "# Sample Notebook for Running Code\n",
    "\n",
    "This is a sample notebook to demonstrate the use of Jupyter notebooks.\n",
    "\n",
    "Jupyter notebooks consist of code cells and text cells. \n",
    "Code cells can be executed by hitting ´CTRL-SHIFT´ or ´CTRL-ENTER´.\n",
    "When you execute a code cell, the output of the last line of code will be printed below the cell."
   ]
  },
  {
   "cell_type": "code",
   "execution_count": null,
   "metadata": {
    "colab": {
     "base_uri": "https://localhost:8080/"
    },
    "id": "b9wg389dNha7",
    "outputId": "0d7a7104-5bd3-4a3c-b266-03dc30113977"
   },
   "outputs": [],
   "source": [
    "# For example:\n",
    "input_x = 8\n",
    "y_real = 24\n",
    "\n",
    "# We guess a value for parameter A\n",
    "parameter_a = 2\n",
    "\n",
    "y_predicted = parameter_a * input_x\n",
    "error = (y_real - y_predicted) \n",
    "update = error / input_x\n",
    "updated_a = parameter_a + update\n",
    "print(f\"Error was {error} and the next update is {update}\")"
   ]
  },
  {
   "cell_type": "markdown",
   "metadata": {},
   "source": [
    "## Dataset\n",
    "\n",
    "Distance (km) - Fuel Consumption (kg)\n",
    "- 8247 km  -> 102558 kg\n",
    "- 5350 km  ->  69391 kg\n",
    "- 13593 km -> 145330 kg"
   ]
  },
  {
   "cell_type": "code",
   "execution_count": null,
   "metadata": {},
   "outputs": [],
   "source": [
    "parameter_a = 10"
   ]
  },
  {
   "cell_type": "code",
   "execution_count": null,
   "metadata": {},
   "outputs": [],
   "source": [
    "# STEP 1 with 1st Sample\n",
    "input_x = 8247\n",
    "y_real = 102558\n",
    "\n",
    "y_predicted = \n",
    "error = \n",
    "update_2 = \n",
    "parameter_a = "
   ]
  },
  {
   "cell_type": "code",
   "execution_count": null,
   "metadata": {},
   "outputs": [],
   "source": [
    "# STEP 2 with 2nd Sample\n",
    "input_x = 5350\n",
    "y_real = 69391\n",
    "\n",
    "y_predicted = \n",
    "error = \n",
    "update_2 = \n",
    "parameter_a = "
   ]
  },
  {
   "cell_type": "code",
   "execution_count": null,
   "metadata": {
    "colab": {
     "base_uri": "https://localhost:8080/"
    },
    "id": "lIVguvXDGxGD",
    "outputId": "2e6220af-4fe8-4191-f44b-befccdfd1b9f"
   },
   "outputs": [],
   "source": [
    "# STEP 3 with 3rd Sample\n",
    "input_x = 13593\n",
    "y_real = 145330\n",
    "\n",
    "y_predicted = \n",
    "error = \n",
    "update_3 = \n",
    "parameter_a = "
   ]
  },
  {
   "cell_type": "code",
   "execution_count": null,
   "metadata": {},
   "outputs": [],
   "source": [
    "print(f\"Updates: {update_1, update_2, update_3}\")"
   ]
  }
 ],
 "metadata": {
  "colab": {
   "collapsed_sections": [],
   "name": "PoML_L3_S1_N1_LearnFuelConsumption.ipynb",
   "provenance": []
  },
  "kernelspec": {
   "display_name": "Python 3 (ipykernel)",
   "language": "python",
   "name": "python3"
  },
  "language_info": {
   "codemirror_mode": {
    "name": "ipython",
    "version": 3
   },
   "file_extension": ".py",
   "mimetype": "text/x-python",
   "name": "python",
   "nbconvert_exporter": "python",
   "pygments_lexer": "ipython3",
   "version": "3.11.4"
  }
 },
 "nbformat": 4,
 "nbformat_minor": 1
}
