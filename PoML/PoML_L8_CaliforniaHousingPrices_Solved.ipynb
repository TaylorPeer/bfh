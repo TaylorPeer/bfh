{
 "cells": [
  {
   "cell_type": "markdown",
   "id": "af1102a8",
   "metadata": {},
   "source": [
    "## Imports"
   ]
  },
  {
   "cell_type": "code",
   "execution_count": 1,
   "id": "ae340c12",
   "metadata": {},
   "outputs": [],
   "source": [
    "import pandas as pd\n",
    "import time\n",
    "from tqdm import tqdm\n",
    "\n",
    "from sklearn.datasets import fetch_california_housing\n",
    "from sklearn.model_selection import train_test_split\n",
    "from sklearn.linear_model import LinearRegression\n",
    "from sklearn.tree import DecisionTreeRegressor\n",
    "from sklearn.ensemble import RandomForestRegressor\n",
    "from sklearn.svm import SVR\n",
    "from sklearn.metrics import mean_squared_error\n",
    "from sklearn.metrics import mean_absolute_error\n",
    "from sklearn.metrics import r2_score"
   ]
  },
  {
   "cell_type": "markdown",
   "id": "7e8c5e0e",
   "metadata": {},
   "source": [
    "## Load the Data\n",
    "\n",
    "In this special case, the dataset is included as part of Scikit-Learn. Convenient."
   ]
  },
  {
   "cell_type": "code",
   "execution_count": 2,
   "id": "ea98d6a4",
   "metadata": {},
   "outputs": [],
   "source": [
    "california_housing = fetch_california_housing()"
   ]
  },
  {
   "cell_type": "markdown",
   "id": "dcd758e5",
   "metadata": {},
   "source": [
    "### Transform the Data\n",
    "\n",
    "However, the data is not immediately loaded in a DataFrame format we are familiar with. So let's create a DataFrame with it. We also have to explicitly add the target variable to the DataFrame."
   ]
  },
  {
   "cell_type": "code",
   "execution_count": 3,
   "id": "7a027089",
   "metadata": {},
   "outputs": [],
   "source": [
    "df = pd.DataFrame(california_housing.data, columns=california_housing.feature_names)\n",
    "df['MEDV'] = california_housing.target"
   ]
  },
  {
   "cell_type": "markdown",
   "id": "a0c9c0a8",
   "metadata": {},
   "source": [
    "## Training & Test Split"
   ]
  },
  {
   "cell_type": "code",
   "execution_count": 5,
   "id": "0f8ab070",
   "metadata": {},
   "outputs": [],
   "source": [
    "X = df.drop('MEDV', axis=1)\n",
    "y = df['MEDV']\n",
    "\n",
    "X_train, X_test, y_train, y_test = train_test_split(X, y, test_size=0.2)"
   ]
  },
  {
   "cell_type": "markdown",
   "id": "74d9d113",
   "metadata": {},
   "source": [
    "## Initial Model Training"
   ]
  },
  {
   "cell_type": "code",
   "execution_count": 6,
   "id": "b5d6c590",
   "metadata": {},
   "outputs": [],
   "source": [
    "model = LinearRegression()\n",
    "model = model.fit(X_train, y_train)"
   ]
  },
  {
   "cell_type": "markdown",
   "id": "6f3366d4",
   "metadata": {},
   "source": [
    "### Make Predictions"
   ]
  },
  {
   "cell_type": "code",
   "execution_count": 7,
   "id": "9f086ff5",
   "metadata": {},
   "outputs": [],
   "source": [
    "y_pred = model.predict(X_test)"
   ]
  },
  {
   "cell_type": "markdown",
   "id": "d5ed27c0",
   "metadata": {},
   "source": [
    "## Evaluation"
   ]
  },
  {
   "cell_type": "code",
   "execution_count": 8,
   "id": "d95cbf80",
   "metadata": {},
   "outputs": [
    {
     "data": {
      "text/html": [
       "<div>\n",
       "<style scoped>\n",
       "    .dataframe tbody tr th:only-of-type {\n",
       "        vertical-align: middle;\n",
       "    }\n",
       "\n",
       "    .dataframe tbody tr th {\n",
       "        vertical-align: top;\n",
       "    }\n",
       "\n",
       "    .dataframe thead th {\n",
       "        text-align: right;\n",
       "    }\n",
       "</style>\n",
       "<table border=\"1\" class=\"dataframe\">\n",
       "  <thead>\n",
       "    <tr style=\"text-align: right;\">\n",
       "      <th></th>\n",
       "      <th>MedInc</th>\n",
       "      <th>HouseAge</th>\n",
       "      <th>AveRooms</th>\n",
       "      <th>AveBedrms</th>\n",
       "      <th>Population</th>\n",
       "      <th>AveOccup</th>\n",
       "      <th>Latitude</th>\n",
       "      <th>Longitude</th>\n",
       "      <th>MEDV_actual</th>\n",
       "      <th>MEDV_predicted</th>\n",
       "      <th>error</th>\n",
       "    </tr>\n",
       "  </thead>\n",
       "  <tbody>\n",
       "    <tr>\n",
       "      <th>3470</th>\n",
       "      <td>3.0526</td>\n",
       "      <td>24.0</td>\n",
       "      <td>4.528395</td>\n",
       "      <td>1.098765</td>\n",
       "      <td>3151.0</td>\n",
       "      <td>3.890123</td>\n",
       "      <td>34.29</td>\n",
       "      <td>-118.46</td>\n",
       "      <td>1.83300</td>\n",
       "      <td>1.833108</td>\n",
       "      <td>0.000108</td>\n",
       "    </tr>\n",
       "    <tr>\n",
       "      <th>3913</th>\n",
       "      <td>3.5313</td>\n",
       "      <td>31.0</td>\n",
       "      <td>4.730120</td>\n",
       "      <td>1.012048</td>\n",
       "      <td>1494.0</td>\n",
       "      <td>3.600000</td>\n",
       "      <td>34.20</td>\n",
       "      <td>-118.55</td>\n",
       "      <td>2.11800</td>\n",
       "      <td>2.118376</td>\n",
       "      <td>0.000376</td>\n",
       "    </tr>\n",
       "    <tr>\n",
       "      <th>16755</th>\n",
       "      <td>3.1958</td>\n",
       "      <td>39.0</td>\n",
       "      <td>4.665169</td>\n",
       "      <td>1.083146</td>\n",
       "      <td>1738.0</td>\n",
       "      <td>3.905618</td>\n",
       "      <td>37.71</td>\n",
       "      <td>-122.46</td>\n",
       "      <td>2.32100</td>\n",
       "      <td>2.320323</td>\n",
       "      <td>0.000677</td>\n",
       "    </tr>\n",
       "    <tr>\n",
       "      <th>3550</th>\n",
       "      <td>6.8643</td>\n",
       "      <td>25.0</td>\n",
       "      <td>6.291572</td>\n",
       "      <td>0.933941</td>\n",
       "      <td>1166.0</td>\n",
       "      <td>2.656036</td>\n",
       "      <td>34.22</td>\n",
       "      <td>-118.64</td>\n",
       "      <td>3.33700</td>\n",
       "      <td>3.336308</td>\n",
       "      <td>0.000692</td>\n",
       "    </tr>\n",
       "    <tr>\n",
       "      <th>10207</th>\n",
       "      <td>3.7500</td>\n",
       "      <td>52.0</td>\n",
       "      <td>6.018957</td>\n",
       "      <td>1.308057</td>\n",
       "      <td>609.0</td>\n",
       "      <td>2.886256</td>\n",
       "      <td>33.88</td>\n",
       "      <td>-117.92</td>\n",
       "      <td>2.32500</td>\n",
       "      <td>2.325694</td>\n",
       "      <td>0.000694</td>\n",
       "    </tr>\n",
       "    <tr>\n",
       "      <th>...</th>\n",
       "      <td>...</td>\n",
       "      <td>...</td>\n",
       "      <td>...</td>\n",
       "      <td>...</td>\n",
       "      <td>...</td>\n",
       "      <td>...</td>\n",
       "      <td>...</td>\n",
       "      <td>...</td>\n",
       "      <td>...</td>\n",
       "      <td>...</td>\n",
       "      <td>...</td>\n",
       "    </tr>\n",
       "    <tr>\n",
       "      <th>459</th>\n",
       "      <td>1.1696</td>\n",
       "      <td>52.0</td>\n",
       "      <td>2.436000</td>\n",
       "      <td>0.944000</td>\n",
       "      <td>1349.0</td>\n",
       "      <td>5.396000</td>\n",
       "      <td>37.87</td>\n",
       "      <td>-122.25</td>\n",
       "      <td>5.00001</td>\n",
       "      <td>1.539815</td>\n",
       "      <td>3.460195</td>\n",
       "    </tr>\n",
       "    <tr>\n",
       "      <th>10454</th>\n",
       "      <td>2.3846</td>\n",
       "      <td>22.0</td>\n",
       "      <td>5.152866</td>\n",
       "      <td>1.146497</td>\n",
       "      <td>334.0</td>\n",
       "      <td>2.127389</td>\n",
       "      <td>33.48</td>\n",
       "      <td>-117.66</td>\n",
       "      <td>5.00001</td>\n",
       "      <td>1.503888</td>\n",
       "      <td>3.496122</td>\n",
       "    </tr>\n",
       "    <tr>\n",
       "      <th>13361</th>\n",
       "      <td>3.9696</td>\n",
       "      <td>25.0</td>\n",
       "      <td>10.352941</td>\n",
       "      <td>1.205882</td>\n",
       "      <td>99.0</td>\n",
       "      <td>2.911765</td>\n",
       "      <td>34.01</td>\n",
       "      <td>-117.61</td>\n",
       "      <td>5.00000</td>\n",
       "      <td>1.477226</td>\n",
       "      <td>3.522774</td>\n",
       "    </tr>\n",
       "    <tr>\n",
       "      <th>19542</th>\n",
       "      <td>1.7679</td>\n",
       "      <td>39.0</td>\n",
       "      <td>5.000000</td>\n",
       "      <td>0.888889</td>\n",
       "      <td>22.0</td>\n",
       "      <td>2.444444</td>\n",
       "      <td>37.63</td>\n",
       "      <td>-120.92</td>\n",
       "      <td>4.50000</td>\n",
       "      <td>0.917906</td>\n",
       "      <td>3.582094</td>\n",
       "    </tr>\n",
       "    <tr>\n",
       "      <th>18501</th>\n",
       "      <td>15.0001</td>\n",
       "      <td>52.0</td>\n",
       "      <td>8.461538</td>\n",
       "      <td>1.230769</td>\n",
       "      <td>55.0</td>\n",
       "      <td>2.115385</td>\n",
       "      <td>37.19</td>\n",
       "      <td>-121.59</td>\n",
       "      <td>1.31300</td>\n",
       "      <td>7.116208</td>\n",
       "      <td>5.803208</td>\n",
       "    </tr>\n",
       "  </tbody>\n",
       "</table>\n",
       "<p>4128 rows × 11 columns</p>\n",
       "</div>"
      ],
      "text/plain": [
       "        MedInc  HouseAge   AveRooms  AveBedrms  Population  AveOccup  \\\n",
       "3470    3.0526      24.0   4.528395   1.098765      3151.0  3.890123   \n",
       "3913    3.5313      31.0   4.730120   1.012048      1494.0  3.600000   \n",
       "16755   3.1958      39.0   4.665169   1.083146      1738.0  3.905618   \n",
       "3550    6.8643      25.0   6.291572   0.933941      1166.0  2.656036   \n",
       "10207   3.7500      52.0   6.018957   1.308057       609.0  2.886256   \n",
       "...        ...       ...        ...        ...         ...       ...   \n",
       "459     1.1696      52.0   2.436000   0.944000      1349.0  5.396000   \n",
       "10454   2.3846      22.0   5.152866   1.146497       334.0  2.127389   \n",
       "13361   3.9696      25.0  10.352941   1.205882        99.0  2.911765   \n",
       "19542   1.7679      39.0   5.000000   0.888889        22.0  2.444444   \n",
       "18501  15.0001      52.0   8.461538   1.230769        55.0  2.115385   \n",
       "\n",
       "       Latitude  Longitude  MEDV_actual  MEDV_predicted     error  \n",
       "3470      34.29    -118.46      1.83300        1.833108  0.000108  \n",
       "3913      34.20    -118.55      2.11800        2.118376  0.000376  \n",
       "16755     37.71    -122.46      2.32100        2.320323  0.000677  \n",
       "3550      34.22    -118.64      3.33700        3.336308  0.000692  \n",
       "10207     33.88    -117.92      2.32500        2.325694  0.000694  \n",
       "...         ...        ...          ...             ...       ...  \n",
       "459       37.87    -122.25      5.00001        1.539815  3.460195  \n",
       "10454     33.48    -117.66      5.00001        1.503888  3.496122  \n",
       "13361     34.01    -117.61      5.00000        1.477226  3.522774  \n",
       "19542     37.63    -120.92      4.50000        0.917906  3.582094  \n",
       "18501     37.19    -121.59      1.31300        7.116208  5.803208  \n",
       "\n",
       "[4128 rows x 11 columns]"
      ]
     },
     "execution_count": 8,
     "metadata": {},
     "output_type": "execute_result"
    }
   ],
   "source": [
    "eval_df = X_test.copy()\n",
    "eval_df[\"MEDV_actual\"] = y_test\n",
    "eval_df[\"MEDV_predicted\"] = y_pred\n",
    "eval_df[\"error\"] = abs(eval_df[\"MEDV_actual\"] - eval_df[\"MEDV_predicted\"])\n",
    "eval_df.sort_values(by=\"error\")"
   ]
  },
  {
   "cell_type": "markdown",
   "id": "0642abe5",
   "metadata": {},
   "source": [
    "#### mean_absolute_error"
   ]
  },
  {
   "cell_type": "code",
   "execution_count": 9,
   "id": "ce38dee9",
   "metadata": {},
   "outputs": [
    {
     "data": {
      "text/plain": [
       "0.5430877513145164"
      ]
     },
     "execution_count": 9,
     "metadata": {},
     "output_type": "execute_result"
    }
   ],
   "source": [
    "mean_absolute_error(y_test, y_pred)"
   ]
  },
  {
   "cell_type": "markdown",
   "id": "b2235dee",
   "metadata": {},
   "source": [
    "#### mean_squared_error"
   ]
  },
  {
   "cell_type": "code",
   "execution_count": 10,
   "id": "e03af1f1",
   "metadata": {},
   "outputs": [
    {
     "data": {
      "text/plain": [
       "0.5590854012179496"
      ]
     },
     "execution_count": 10,
     "metadata": {},
     "output_type": "execute_result"
    }
   ],
   "source": [
    "mean_squared_error(y_test, y_pred)"
   ]
  },
  {
   "cell_type": "markdown",
   "id": "5b55aeb5",
   "metadata": {},
   "source": [
    "#### r-squared"
   ]
  },
  {
   "cell_type": "code",
   "execution_count": 11,
   "id": "3f3c2d41",
   "metadata": {},
   "outputs": [
    {
     "data": {
      "text/plain": [
       "0.5965357164450474"
      ]
     },
     "execution_count": 11,
     "metadata": {},
     "output_type": "execute_result"
    }
   ],
   "source": [
    "r2_score(y_test, y_pred)"
   ]
  },
  {
   "cell_type": "markdown",
   "id": "f38367c0",
   "metadata": {},
   "source": [
    "### Evaluating Different Regression Models"
   ]
  },
  {
   "cell_type": "code",
   "execution_count": 14,
   "id": "059a95d7",
   "metadata": {},
   "outputs": [
    {
     "name": "stderr",
     "output_type": "stream",
     "text": [
      "100%|██████████| 4/4 [00:24<00:00,  6.25s/it]\n"
     ]
    },
    {
     "data": {
      "text/html": [
       "<div>\n",
       "<style scoped>\n",
       "    .dataframe tbody tr th:only-of-type {\n",
       "        vertical-align: middle;\n",
       "    }\n",
       "\n",
       "    .dataframe tbody tr th {\n",
       "        vertical-align: top;\n",
       "    }\n",
       "\n",
       "    .dataframe thead th {\n",
       "        text-align: right;\n",
       "    }\n",
       "</style>\n",
       "<table border=\"1\" class=\"dataframe\">\n",
       "  <thead>\n",
       "    <tr style=\"text-align: right;\">\n",
       "      <th></th>\n",
       "      <th>model</th>\n",
       "      <th>training_time</th>\n",
       "      <th>prediction_time</th>\n",
       "      <th>mse</th>\n",
       "      <th>mae</th>\n",
       "      <th>r2</th>\n",
       "    </tr>\n",
       "  </thead>\n",
       "  <tbody>\n",
       "    <tr>\n",
       "      <th>0</th>\n",
       "      <td>LinearRegression</td>\n",
       "      <td>0.015520</td>\n",
       "      <td>0.004960</td>\n",
       "      <td>0.559085</td>\n",
       "      <td>0.543088</td>\n",
       "      <td>0.596536</td>\n",
       "    </tr>\n",
       "    <tr>\n",
       "      <th>1</th>\n",
       "      <td>DecisionTreeRegressor</td>\n",
       "      <td>0.171670</td>\n",
       "      <td>0.001775</td>\n",
       "      <td>0.547092</td>\n",
       "      <td>0.470608</td>\n",
       "      <td>0.605191</td>\n",
       "    </tr>\n",
       "    <tr>\n",
       "      <th>2</th>\n",
       "      <td>RandomForestRegressor</td>\n",
       "      <td>10.485118</td>\n",
       "      <td>0.094279</td>\n",
       "      <td>0.270878</td>\n",
       "      <td>0.340364</td>\n",
       "      <td>0.804521</td>\n",
       "    </tr>\n",
       "    <tr>\n",
       "      <th>3</th>\n",
       "      <td>SVR</td>\n",
       "      <td>9.503671</td>\n",
       "      <td>4.710272</td>\n",
       "      <td>1.430769</td>\n",
       "      <td>0.889593</td>\n",
       "      <td>-0.032515</td>\n",
       "    </tr>\n",
       "  </tbody>\n",
       "</table>\n",
       "</div>"
      ],
      "text/plain": [
       "                   model  training_time  prediction_time       mse       mae  \\\n",
       "0       LinearRegression       0.015520         0.004960  0.559085  0.543088   \n",
       "1  DecisionTreeRegressor       0.171670         0.001775  0.547092  0.470608   \n",
       "2  RandomForestRegressor      10.485118         0.094279  0.270878  0.340364   \n",
       "3                    SVR       9.503671         4.710272  1.430769  0.889593   \n",
       "\n",
       "         r2  \n",
       "0  0.596536  \n",
       "1  0.605191  \n",
       "2  0.804521  \n",
       "3 -0.032515  "
      ]
     },
     "execution_count": 14,
     "metadata": {},
     "output_type": "execute_result"
    }
   ],
   "source": [
    "linear_regression = LinearRegression()\n",
    "decision_tree_regression = DecisionTreeRegressor()\n",
    "random_forest_regression = RandomForestRegressor()\n",
    "support_vector_regression = SVR()\n",
    "\n",
    "regressors = [\n",
    "    linear_regression,\n",
    "    decision_tree_regression,\n",
    "    random_forest_regression,\n",
    "    support_vector_regression\n",
    "]\n",
    "\n",
    "model_metrics = []\n",
    "for regressor in tqdm(regressors):\n",
    "    \n",
    "    # Train the regressor\n",
    "    start_time = time.time()\n",
    "    trained_model = regressor.fit(X_train, y_train)\n",
    "    end_training_time = time.time()\n",
    "    training_time_elapsed = end_training_time - start_time\n",
    "    \n",
    "    # Apply trained regressor to test set\n",
    "    start_time = time.time()\n",
    "    predictions = trained_model.predict(X_test)\n",
    "    prediction_time = time.time()\n",
    "    prediction_time_elapsed = prediction_time - start_time\n",
    "    \n",
    "    # Measure model performance\n",
    "    mse = mean_squared_error(y_test, predictions)\n",
    "    mae = mean_absolute_error(y_test, predictions)\n",
    "    r2 = r2_score(y_test, predictions)\n",
    "    \n",
    "    # Record model metrics\n",
    "    model_metrics.append({\n",
    "        \"model\": trained_model.__class__.__name__,\n",
    "        \"training_time\": training_time_elapsed,\n",
    "        \"prediction_time\": prediction_time_elapsed,\n",
    "        \"mse\": mse,\n",
    "        \"mae\": mae,\n",
    "        \"r2\": r2\n",
    "    })\n",
    "    \n",
    "# Print model metrics table\n",
    "pd.DataFrame(model_metrics)"
   ]
  },
  {
   "cell_type": "code",
   "execution_count": null,
   "id": "de4b65a9",
   "metadata": {},
   "outputs": [],
   "source": []
  }
 ],
 "metadata": {
  "kernelspec": {
   "display_name": "Python 3 (ipykernel)",
   "language": "python",
   "name": "python3"
  },
  "language_info": {
   "codemirror_mode": {
    "name": "ipython",
    "version": 3
   },
   "file_extension": ".py",
   "mimetype": "text/x-python",
   "name": "python",
   "nbconvert_exporter": "python",
   "pygments_lexer": "ipython3",
   "version": "3.9.15"
  }
 },
 "nbformat": 4,
 "nbformat_minor": 5
}
